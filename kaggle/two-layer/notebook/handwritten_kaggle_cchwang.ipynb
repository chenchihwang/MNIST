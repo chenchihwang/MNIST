{
  "metadata": {
    "kernelspec": {
      "display_name": "Python 3",
      "name": "python3"
    },
    "language_info": {
      "pygments_lexer": "ipython3",
      "nbconvert_exporter": "python",
      "version": "3.6.4",
      "file_extension": ".py",
      "codemirror_mode": {
        "name": "ipython",
        "version": 3
      },
      "name": "python",
      "mimetype": "text/x-python"
    },
    "kaggle": {
      "accelerator": "none",
      "dataSources": [
        {
          "sourceId": 3004,
          "databundleVersionId": 861823,
          "sourceType": "competition"
        }
      ],
      "isInternetEnabled": false,
      "language": "python",
      "sourceType": "notebook",
      "isGpuEnabled": false
    },
    "colab": {
      "provenance": [],
      "gpuType": "T4"
    },
    "widgets": {
      "application/vnd.jupyter.widget-state+json": {
        "61eec287209b488b87104867afd0c248": {
          "state": {
          "model_module": "@jupyter-widgets/controls",
          "model_name": "VBoxModel",
          "model_module_version": "1.5.0",
          "state": {
            "_dom_classes": [],
            "_model_module": "@jupyter-widgets/controls",
            "_model_module_version": "1.5.0",
            "_model_name": "VBoxModel",
            "_view_count": null,
            "_view_module": "@jupyter-widgets/controls",
            "_view_module_version": "1.5.0",
            "_view_name": "VBoxView",
            "box_style": "",
            "children": [
              "IPY_MODEL_450591057c7040519f270ca2217bfb45"
            ],
            "layout": "IPY_MODEL_fe5875f226ba43a887f9150491eac269"
          }
        },
        "075cc6e63a6e42df94fddd38d71fd23b": {
          "model_module": "@jupyter-widgets/controls",
          "model_name": "HTMLModel",
          "model_module_version": "1.5.0",
          "state": {
            "_dom_classes": [],
            "_model_module": "@jupyter-widgets/controls",
            "_model_module_version": "1.5.0",
            "_model_name": "HTMLModel",
            "_view_count": null,
            "_view_module": "@jupyter-widgets/controls",
            "_view_module_version": "1.5.0",
            "_view_name": "HTMLView",
            "description": "",
            "description_tooltip": null,
            "layout": "IPY_MODEL_aa4500c69c804db8961eba22466de6f9",
            "placeholder": "​",
            "style": "IPY_MODEL_29877f163ad84c6ba733b70337f76bec",
            "value": "<center> <img\nsrc=https://www.kaggle.com/static/images/site-logo.png\nalt='Kaggle'> <br> Create an API token from <a\nhref=\"https://www.kaggle.com/settings/account\" target=\"_blank\">your Kaggle\nsettings page</a> and paste it below along with your Kaggle username. <br> </center>"
          }
        },
        "2c31261b11e44613b20528541c8e4eb5": {
          "model_module": "@jupyter-widgets/controls",
          "model_name": "TextModel",
          "model_module_version": "1.5.0",
          "state": {
            "_dom_classes": [],
            "_model_module": "@jupyter-widgets/controls",
            "_model_module_version": "1.5.0",
            "_model_name": "TextModel",
            "_view_count": null,
            "_view_module": "@jupyter-widgets/controls",
            "_view_module_version": "1.5.0",
            "_view_name": "TextView",
            "continuous_update": true,
            "description": "Username:",
            "description_tooltip": null,
            "disabled": false,
            "layout": "IPY_MODEL_10f4e73f9afb48ff8e93000c3272c897",
            "placeholder": "​",
            "style": "IPY_MODEL_4093a3fc8399496091daa66faf12a6b4",
            "value": "kingofmountain"
          }
        },
        "61f4ab8231a34cc4b99c8df265342211": {
          "model_module": "@jupyter-widgets/controls",
          "model_name": "PasswordModel",
          "model_module_version": "1.5.0",
          "state": {
            "_dom_classes": [],
            "_model_module": "@jupyter-widgets/controls",
            "_model_module_version": "1.5.0",
            "_model_name": "PasswordModel",
            "_view_count": null,
            "_view_module": "@jupyter-widgets/controls",
            "_view_module_version": "1.5.0",
            "_view_name": "PasswordView",
            "continuous_update": true,
            "description": "Token:",
            "description_tooltip": null,
            "disabled": false,
            "layout": "IPY_MODEL_befbd270adab45a0ba16dc145f74f689",
            "placeholder": "​",
            "style": "IPY_MODEL_bec35d82aec241f1b5fd92d218b91196",
            "value": ""
          }
        },
        "3990ad6b2060477d890608f2a565c9f4": {
          "model_module": "@jupyter-widgets/controls",
          "model_name": "ButtonModel",
          "model_module_version": "1.5.0",
          "state": {
            "_dom_classes": [],
            "_model_module": "@jupyter-widgets/controls",
            "_model_module_version": "1.5.0",
            "_model_name": "ButtonModel",
            "_view_count": null,
            "_view_module": "@jupyter-widgets/controls",
            "_view_module_version": "1.5.0",
            "_view_name": "ButtonView",
            "button_style": "",
            "description": "Login",
            "disabled": false,
            "icon": "",
            "layout": "IPY_MODEL_31091dcdae524715a78d72875e4bf759",
            "style": "IPY_MODEL_5df5a5d62a1b4423b21db0a3d034ea2e",
            "tooltip": ""
          }
        },
        "41b0410cdfe04fd78720cdae503868e4": {
          "model_module": "@jupyter-widgets/controls",
          "model_name": "HTMLModel",
          "model_module_version": "1.5.0",
          "state": {
            "_dom_classes": [],
            "_model_module": "@jupyter-widgets/controls",
            "_model_module_version": "1.5.0",
            "_model_name": "HTMLModel",
            "_view_count": null,
            "_view_module": "@jupyter-widgets/controls",
            "_view_module_version": "1.5.0",
            "_view_name": "HTMLView",
            "description": "",
            "description_tooltip": null,
            "layout": "IPY_MODEL_ee044ae1a5b44b05b0591b0fea3f5c2b",
            "placeholder": "​",
            "style": "IPY_MODEL_52d549d07bda41f59f03cecf758e02b0",
            "value": "\n<b>Thank You</b></center>"
          }
        },
        "fe5875f226ba43a887f9150491eac269": {
          "model_module": "@jupyter-widgets/base",
          "model_name": "LayoutModel",
          "model_module_version": "1.2.0",
          "state": {
            "_model_module": "@jupyter-widgets/base",
            "_model_module_version": "1.2.0",
            "_model_name": "LayoutModel",
            "_view_count": null,
            "_view_module": "@jupyter-widgets/base",
            "_view_module_version": "1.2.0",
            "_view_name": "LayoutView",
            "align_content": null,
            "align_items": "center",
            "align_self": null,
            "border": null,
            "bottom": null,
            "display": "flex",
            "flex": null,
            "flex_flow": "column",
            "grid_area": null,
            "grid_auto_columns": null,
            "grid_auto_flow": null,
            "grid_auto_rows": null,
            "grid_column": null,
            "grid_gap": null,
            "grid_row": null,
            "grid_template_areas": null,
            "grid_template_columns": null,
            "grid_template_rows": null,
            "height": null,
            "justify_content": null,
            "justify_items": null,
            "left": null,
            "margin": null,
            "max_height": null,
            "max_width": null,
            "min_height": null,
            "min_width": null,
            "object_fit": null,
            "object_position": null,
            "order": null,
            "overflow": null,
            "overflow_x": null,
            "overflow_y": null,
            "padding": null,
            "right": null,
            "top": null,
            "visibility": null,
            "width": "50%"
          }
        },
        "aa4500c69c804db8961eba22466de6f9": {
          "model_module": "@jupyter-widgets/base",
          "model_name": "LayoutModel",
          "model_module_version": "1.2.0",
          "state": {
            "_model_module": "@jupyter-widgets/base",
            "_model_module_version": "1.2.0",
            "_model_name": "LayoutModel",
            "_view_count": null,
            "_view_module": "@jupyter-widgets/base",
            "_view_module_version": "1.2.0",
            "_view_name": "LayoutView",
            "align_content": null,
            "align_items": null,
            "align_self": null,
            "border": null,
            "bottom": null,
            "display": null,
            "flex": null,
            "flex_flow": null,
            "grid_area": null,
            "grid_auto_columns": null,
            "grid_auto_flow": null,
            "grid_auto_rows": null,
            "grid_column": null,
            "grid_gap": null,
            "grid_row": null,
            "grid_template_areas": null,
            "grid_template_columns": null,
            "grid_template_rows": null,
            "height": null,
            "justify_content": null,
            "justify_items": null,
            "left": null,
            "margin": null,
            "max_height": null,
            "max_width": null,
            "min_height": null,
            "min_width": null,
            "object_fit": null,
            "object_position": null,
            "order": null,
            "overflow": null,
            "overflow_x": null,
            "overflow_y": null,
            "padding": null,
            "right": null,
            "top": null,
            "visibility": null,
            "width": null
          }
        },
        "29877f163ad84c6ba733b70337f76bec": {
          "model_module": "@jupyter-widgets/controls",
          "model_name": "DescriptionStyleModel",
          "model_module_version": "1.5.0",
          "state": {
            "_model_module": "@jupyter-widgets/controls",
            "_model_module_version": "1.5.0",
            "_model_name": "DescriptionStyleModel",
            "_view_count": null,
            "_view_module": "@jupyter-widgets/base",
            "_view_module_version": "1.2.0",
            "_view_name": "StyleView",
            "description_width": ""
          }
        },
        "10f4e73f9afb48ff8e93000c3272c897": {
          "model_module": "@jupyter-widgets/base",
          "model_name": "LayoutModel",
          "model_module_version": "1.2.0",
          "state": {
            "_model_module": "@jupyter-widgets/base",
            "_model_module_version": "1.2.0",
            "_model_name": "LayoutModel",
            "_view_count": null,
            "_view_module": "@jupyter-widgets/base",
            "_view_module_version": "1.2.0",
            "_view_name": "LayoutView",
            "align_content": null,
            "align_items": null,
            "align_self": null,
            "border": null,
            "bottom": null,
            "display": null,
            "flex": null,
            "flex_flow": null,
            "grid_area": null,
            "grid_auto_columns": null,
            "grid_auto_flow": null,
            "grid_auto_rows": null,
            "grid_column": null,
            "grid_gap": null,
            "grid_row": null,
            "grid_template_areas": null,
            "grid_template_columns": null,
            "grid_template_rows": null,
            "height": null,
            "justify_content": null,
            "justify_items": null,
            "left": null,
            "margin": null,
            "max_height": null,
            "max_width": null,
            "min_height": null,
            "min_width": null,
            "object_fit": null,
            "object_position": null,
            "order": null,
            "overflow": null,
            "overflow_x": null,
            "overflow_y": null,
            "padding": null,
            "right": null,
            "top": null,
            "visibility": null,
            "width": null
          }
        },
        "4093a3fc8399496091daa66faf12a6b4": {
          "model_module": "@jupyter-widgets/controls",
          "model_name": "DescriptionStyleModel",
          "model_module_version": "1.5.0",
          "state": {
            "_model_module": "@jupyter-widgets/controls",
            "_model_module_version": "1.5.0",
            "_model_name": "DescriptionStyleModel",
            "_view_count": null,
            "_view_module": "@jupyter-widgets/base",
            "_view_module_version": "1.2.0",
            "_view_name": "StyleView",
            "description_width": ""
          }
        },
        "befbd270adab45a0ba16dc145f74f689": {
          "model_module": "@jupyter-widgets/base",
          "model_name": "LayoutModel",
          "model_module_version": "1.2.0",
          "state": {
            "_model_module": "@jupyter-widgets/base",
            "_model_module_version": "1.2.0",
            "_model_name": "LayoutModel",
            "_view_count": null,
            "_view_module": "@jupyter-widgets/base",
            "_view_module_version": "1.2.0",
            "_view_name": "LayoutView",
            "align_content": null,
            "align_items": null,
            "align_self": null,
            "border": null,
            "bottom": null,
            "display": null,
            "flex": null,
            "flex_flow": null,
            "grid_area": null,
            "grid_auto_columns": null,
            "grid_auto_flow": null,
            "grid_auto_rows": null,
            "grid_column": null,
            "grid_gap": null,
            "grid_row": null,
            "grid_template_areas": null,
            "grid_template_columns": null,
            "grid_template_rows": null,
            "height": null,
            "justify_content": null,
            "justify_items": null,
            "left": null,
            "margin": null,
            "max_height": null,
            "max_width": null,
            "min_height": null,
            "min_width": null,
            "object_fit": null,
            "object_position": null,
            "order": null,
            "overflow": null,
            "overflow_x": null,
            "overflow_y": null,
            "padding": null,
            "right": null,
            "top": null,
            "visibility": null,
            "width": null
          }
        },
        "bec35d82aec241f1b5fd92d218b91196": {
          "model_module": "@jupyter-widgets/controls",
          "model_name": "DescriptionStyleModel",
          "model_module_version": "1.5.0",
          "state": {
            "_model_module": "@jupyter-widgets/controls",
            "_model_module_version": "1.5.0",
            "_model_name": "DescriptionStyleModel",
            "_view_count": null,
            "_view_module": "@jupyter-widgets/base",
            "_view_module_version": "1.2.0",
            "_view_name": "StyleView",
            "description_width": ""
          }
        },
        "31091dcdae524715a78d72875e4bf759": {
          "model_module": "@jupyter-widgets/base",
          "model_name": "LayoutModel",
          "model_module_version": "1.2.0",
          "state": {
            "_model_module": "@jupyter-widgets/base",
            "_model_module_version": "1.2.0",
            "_model_name": "LayoutModel",
            "_view_count": null,
            "_view_module": "@jupyter-widgets/base",
            "_view_module_version": "1.2.0",
            "_view_name": "LayoutView",
            "align_content": null,
            "align_items": null,
            "align_self": null,
            "border": null,
            "bottom": null,
            "display": null,
            "flex": null,
            "flex_flow": null,
            "grid_area": null,
            "grid_auto_columns": null,
            "grid_auto_flow": null,
            "grid_auto_rows": null,
            "grid_column": null,
            "grid_gap": null,
            "grid_row": null,
            "grid_template_areas": null,
            "grid_template_columns": null,
            "grid_template_rows": null,
            "height": null,
            "justify_content": null,
            "justify_items": null,
            "left": null,
            "margin": null,
            "max_height": null,
            "max_width": null,
            "min_height": null,
            "min_width": null,
            "object_fit": null,
            "object_position": null,
            "order": null,
            "overflow": null,
            "overflow_x": null,
            "overflow_y": null,
            "padding": null,
            "right": null,
            "top": null,
            "visibility": null,
            "width": null
          }
        },
        "5df5a5d62a1b4423b21db0a3d034ea2e": {
          "model_module": "@jupyter-widgets/controls",
          "model_name": "ButtonStyleModel",
          "model_module_version": "1.5.0",
          "state": {
            "_model_module": "@jupyter-widgets/controls",
            "_model_module_version": "1.5.0",
            "_model_name": "ButtonStyleModel",
            "_view_count": null,
            "_view_module": "@jupyter-widgets/base",
            "_view_module_version": "1.2.0",
            "_view_name": "StyleView",
            "button_color": null,
            "font_weight": ""
          }
        },
        "ee044ae1a5b44b05b0591b0fea3f5c2b": {
          "model_module": "@jupyter-widgets/base",
          "model_name": "LayoutModel",
          "model_module_version": "1.2.0",
          "state": {
            "_model_module": "@jupyter-widgets/base",
            "_model_module_version": "1.2.0",
            "_model_name": "LayoutModel",
            "_view_count": null,
            "_view_module": "@jupyter-widgets/base",
            "_view_module_version": "1.2.0",
            "_view_name": "LayoutView",
            "align_content": null,
            "align_items": null,
            "align_self": null,
            "border": null,
            "bottom": null,
            "display": null,
            "flex": null,
            "flex_flow": null,
            "grid_area": null,
            "grid_auto_columns": null,
            "grid_auto_flow": null,
            "grid_auto_rows": null,
            "grid_column": null,
            "grid_gap": null,
            "grid_row": null,
            "grid_template_areas": null,
            "grid_template_columns": null,
            "grid_template_rows": null,
            "height": null,
            "justify_content": null,
            "justify_items": null,
            "left": null,
            "margin": null,
            "max_height": null,
            "max_width": null,
            "min_height": null,
            "min_width": null,
            "object_fit": null,
            "object_position": null,
            "order": null,
            "overflow": null,
            "overflow_x": null,
            "overflow_y": null,
            "padding": null,
            "right": null,
            "top": null,
            "visibility": null,
            "width": null
          }
        },
        "52d549d07bda41f59f03cecf758e02b0": {
          "model_module": "@jupyter-widgets/controls",
          "model_name": "DescriptionStyleModel",
          "model_module_version": "1.5.0",
          "state": {
            "_model_module": "@jupyter-widgets/controls",
            "_model_module_version": "1.5.0",
            "_model_name": "DescriptionStyleModel",
            "_view_count": null,
            "_view_module": "@jupyter-widgets/base",
            "_view_module_version": "1.2.0",
            "_view_name": "StyleView",
            "description_width": ""
          }
        },
        "815d26eedb994e3a8596ea4fd691ee8c": {
          "model_module": "@jupyter-widgets/controls",
          "model_name": "LabelModel",
          "model_module_version": "1.5.0",
          "state": {
            "_dom_classes": [],
            "_model_module": "@jupyter-widgets/controls",
            "_model_module_version": "1.5.0",
            "_model_name": "LabelModel",
            "_view_count": null,
            "_view_module": "@jupyter-widgets/controls",
            "_view_module_version": "1.5.0",
            "_view_name": "LabelView",
            "description": "",
            "description_tooltip": null,
            "layout": "IPY_MODEL_bb8cbff6e2e5459d931ca8ccae6896e6",
            "placeholder": "​",
            "style": "IPY_MODEL_a3ce0245601b4e50ac0b93d0c8e8ae92",
            "value": "Connecting..."
          }
        },
        "bb8cbff6e2e5459d931ca8ccae6896e6": {
          "model_module": "@jupyter-widgets/base",
          "model_name": "LayoutModel",
          "model_module_version": "1.2.0",
          "state": {
            "_model_module": "@jupyter-widgets/base",
            "_model_module_version": "1.2.0",
            "_model_name": "LayoutModel",
            "_view_count": null,
            "_view_module": "@jupyter-widgets/base",
            "_view_module_version": "1.2.0",
            "_view_name": "LayoutView",
            "align_content": null,
            "align_items": null,
            "align_self": null,
            "border": null,
            "bottom": null,
            "display": null,
            "flex": null,
            "flex_flow": null,
            "grid_area": null,
            "grid_auto_columns": null,
            "grid_auto_flow": null,
            "grid_auto_rows": null,
            "grid_column": null,
            "grid_gap": null,
            "grid_row": null,
            "grid_template_areas": null,
            "grid_template_columns": null,
            "grid_template_rows": null,
            "height": null,
            "justify_content": null,
            "justify_items": null,
            "left": null,
            "margin": null,
            "max_height": null,
            "max_width": null,
            "min_height": null,
            "min_width": null,
            "object_fit": null,
            "object_position": null,
            "order": null,
            "overflow": null,
            "overflow_x": null,
            "overflow_y": null,
            "padding": null,
            "right": null,
            "top": null,
            "visibility": null,
            "width": null
          }
        },
        "a3ce0245601b4e50ac0b93d0c8e8ae92": {
          "model_module": "@jupyter-widgets/controls",
          "model_name": "DescriptionStyleModel",
          "model_module_version": "1.5.0",
          "state": {
            "_model_module": "@jupyter-widgets/controls",
            "_model_module_version": "1.5.0",
            "_model_name": "DescriptionStyleModel",
            "_view_count": null,
            "_view_module": "@jupyter-widgets/base",
            "_view_module_version": "1.2.0",
            "_view_name": "StyleView",
            "description_width": ""
          }
        },
        "450591057c7040519f270ca2217bfb45": {
          "model_module": "@jupyter-widgets/controls",
          "model_name": "LabelModel",
          "model_module_version": "1.5.0",
          "state": {
            "_dom_classes": [],
            "_model_module": "@jupyter-widgets/controls",
            "_model_module_version": "1.5.0",
            "_model_name": "LabelModel",
            "_view_count": null,
            "_view_module": "@jupyter-widgets/controls",
            "_view_module_version": "1.5.0",
            "_view_name": "LabelView",
            "description": "",
            "description_tooltip": null,
            "layout": "IPY_MODEL_aed821ce141f43f1aa814f9b8b37f662",
            "placeholder": "​",
            "style": "IPY_MODEL_4e3d648535434b0086c6e56dea062ff0",
            "value": "Kaggle credentials successfully validated."
          }
        },
        "aed821ce141f43f1aa814f9b8b37f662": {
          "model_module": "@jupyter-widgets/base",
          "model_name": "LayoutModel",
          "model_module_version": "1.2.0",
          "state": {
            "_model_module": "@jupyter-widgets/base",
            "_model_module_version": "1.2.0",
            "_model_name": "LayoutModel",
            "_view_count": null,
            "_view_module": "@jupyter-widgets/base",
            "_view_module_version": "1.2.0",
            "_view_name": "LayoutView",
            "align_content": null,
            "align_items": null,
            "align_self": null,
            "border": null,
            "bottom": null,
            "display": null,
            "flex": null,
            "flex_flow": null,
            "grid_area": null,
            "grid_auto_columns": null,
            "grid_auto_flow": null,
            "grid_auto_rows": null,
            "grid_column": null,
            "grid_gap": null,
            "grid_row": null,
            "grid_template_areas": null,
            "grid_template_columns": null,
            "grid_template_rows": null,
            "height": null,
            "justify_content": null,
            "justify_items": null,
            "left": null,
            "margin": null,
            "max_height": null,
            "max_width": null,
            "min_height": null,
            "min_width": null,
            "object_fit": null,
            "object_position": null,
            "order": null,
            "overflow": null,
            "overflow_x": null,
            "overflow_y": null,
            "padding": null,
            "right": null,
            "top": null,
            "visibility": null,
            "width": null
          }
        },
        "4e3d648535434b0086c6e56dea062ff0": {
          "model_module": "@jupyter-widgets/controls",
          "model_name": "DescriptionStyleModel",
          "model_module_version": "1.5.0",
          "state": {
            "_model_module": "@jupyter-widgets/controls",
            "_model_module_version": "1.5.0",
            "_model_name": "DescriptionStyleModel",
            "_view_count": null,
            "_view_module": "@jupyter-widgets/base",
            "_view_module_version": "1.2.0",
            "_view_name": "StyleView",
            "description_width": ""
          }
        }
      }}
    },
    "accelerator": "GPU"
  },
  "nbformat_minor": 0,
  "nbformat": 4,
  "cells": [
    {
      "source": [
        "# IMPORTANT: SOME KAGGLE DATA SOURCES ARE PRIVATE\n",
        "# RUN THIS CELL IN ORDER TO IMPORT YOUR KAGGLE DATA SOURCES.\n",
        "import kagglehub\n",
        "kagglehub.login()\n"
      ],
      "metadata": {
        "id": "hNGW0nMbxrlL",
        "outputId": "a6f05f14-d7be-4014-a9b3-0e64068e78e8",
        "colab": {
          "base_uri": "https://localhost:8080/",
          "height": 84,
          "referenced_widgets": [
            "61eec287209b488b87104867afd0c248",
            "075cc6e63a6e42df94fddd38d71fd23b",
            "2c31261b11e44613b20528541c8e4eb5",
            "61f4ab8231a34cc4b99c8df265342211",
            "3990ad6b2060477d890608f2a565c9f4",
            "41b0410cdfe04fd78720cdae503868e4",
            "fe5875f226ba43a887f9150491eac269",
            "aa4500c69c804db8961eba22466de6f9",
            "29877f163ad84c6ba733b70337f76bec",
            "10f4e73f9afb48ff8e93000c3272c897",
            "4093a3fc8399496091daa66faf12a6b4",
            "befbd270adab45a0ba16dc145f74f689",
            "bec35d82aec241f1b5fd92d218b91196",
            "31091dcdae524715a78d72875e4bf759",
            "5df5a5d62a1b4423b21db0a3d034ea2e",
            "ee044ae1a5b44b05b0591b0fea3f5c2b",
            "52d549d07bda41f59f03cecf758e02b0",
            "815d26eedb994e3a8596ea4fd691ee8c",
            "bb8cbff6e2e5459d931ca8ccae6896e6",
            "a3ce0245601b4e50ac0b93d0c8e8ae92",
            "450591057c7040519f270ca2217bfb45",
            "aed821ce141f43f1aa814f9b8b37f662",
            "4e3d648535434b0086c6e56dea062ff0"
          ]
        }
      },
      "cell_type": "code",
      "outputs": [
        {
          "output_type": "display_data",
          "data": {
            "text/plain": [
              "VBox(children=(HTML(value='<center> <img\\nsrc=https://www.kaggle.com/static/images/site-logo.png\\nalt=\\'Kaggle…"
            ],
            "application/vnd.jupyter.widget-view+json": {
              "version_major": 2,
              "version_minor": 0,
              "model_id": "61eec287209b488b87104867afd0c248"
            }
          },
          "metadata": {}
        },
        {
          "output_type": "stream",
          "name": "stdout",
          "text": [
            "Kaggle credentials set.\n",
            "Kaggle credentials successfully validated.\n"
          ]
        }
      ],
      "execution_count": null
    },
    {
      "source": [
        "# IMPORTANT: RUN THIS CELL IN ORDER TO IMPORT YOUR KAGGLE DATA SOURCES,\n",
        "# THEN FEEL FREE TO DELETE THIS CELL.\n",
        "# NOTE: THIS NOTEBOOK ENVIRONMENT DIFFERS FROM KAGGLE'S PYTHON\n",
        "# ENVIRONMENT SO THERE MAY BE MISSING LIBRARIES USED BY YOUR\n",
        "# NOTEBOOK.\n",
        "\n",
        "digit_recognizer_path = kagglehub.competition_download('digit-recognizer')\n",
        "\n",
        "print('Data source import complete.')"
      ],
      "metadata": {
        "id": "-umU9PgmxrlM",
        "outputId": "b1ffae4f-3192-4e99-ed62-d8185c4c4c2d",
        "colab": {
          "base_uri": "https://localhost:8080/"
        }
      },
      "cell_type": "code",
      "outputs": [
        {
          "output_type": "stream",
          "name": "stdout",
          "text": [
            "Downloading from https://www.kaggle.com/api/v1/competitions/data/download-all/digit-recognizer...\n"
          ]
        },
        {
          "output_type": "stream",
          "name": "stderr",
          "text": [
            "100%|██████████| 15.3M/15.3M [00:01<00:00, 9.12MB/s]"
          ]
        },
        {
          "output_type": "stream",
          "name": "stdout",
          "text": [
            "Extracting files...\n"
          ]
        },
        {
          "output_type": "stream",
          "name": "stderr",
          "text": [
            "\n"
          ]
        },
        {
          "output_type": "stream",
          "name": "stdout",
          "text": [
            "Data source import complete.\n"
          ]
        }
      ],
      "execution_count": null
    },
    {
      "cell_type": "code",
      "source": [
        "# This Python 3 environment comes with many helpful analytics libraries installed\n",
        "# It is defined by the kaggle/python Docker image: https://github.com/kaggle/docker-python\n",
        "# For example, here's several helpful packages to load\n",
        "\n",
        "import numpy as np # linear algebra\n",
        "import pandas as pd # data processing, CSV file I/O (e.g. pd.read_csv)\n",
        "\n",
        "# Input data files are available in the read-only \"../input/\" directory\n",
        "# For example, running this (by clicking run or pressing Shift+Enter) will list all files under the input directory\n",
        "\n",
        "import os\n",
        "for dirname, _, filenames in os.walk('/kaggle/input'):\n",
        "    for filename in filenames:\n",
        "        print(os.path.join(dirname, filename))\n",
        "\n",
        "os.listdir(digit_recognizer_path)\n",
        "\n",
        "# You can write up to 20GB to the current directory (/kaggle/working/) that gets preserved as output when you create a version using \"Save & Run All\"\n",
        "# You can also write temporary files to /kaggle/temp/, but they won't be saved outside of the current session"
      ],
      "metadata": {
        "_uuid": "8f2839f25d086af736a60e9eeb907d3b93b6e0e5",
        "_cell_guid": "b1076dfc-b9ad-4769-8c92-a6c4dae69d19",
        "trusted": true,
        "id": "NAega2jSxrlN",
        "colab": {
          "base_uri": "https://localhost:8080/"
        },
        "outputId": "a7bc6772-c1a5-4e98-a83d-d4eb7dd446b0"
      },
      "outputs": [
        {
          "output_type": "execute_result",
          "data": {
            "text/plain": [
              "['sample_submission.csv', 'train.csv', 'test.csv']"
            ]
          },
          "metadata": {},
          "execution_count": 4
        }
      ],
      "execution_count": null
    },
    {
      "cell_type": "markdown",
      "source": [
        "The beginning of code written by Chen-Chi Hwang to classify the MNIST dataset using a simple two layer NN."
      ],
      "metadata": {
        "id": "_9bk-Gep5fZY"
      }
    },
    {
      "cell_type": "code",
      "source": [
        "# reading data in\n",
        "file_path = os.path.join(digit_recognizer_path, 'train.csv')\n",
        "df = pd.read_csv(file_path)\n",
        "# print(df.head())\n",
        "\n",
        "data = df.to_numpy()\n",
        "\n",
        "m, n = data.shape\n",
        "print(m, n)\n",
        "\n",
        "np.random.shuffle(data)\n",
        "\n",
        "data_dev = data[0:1000].T\n",
        "Y_dev = data_dev[0]\n",
        "X_dev = data_dev[1:n]\n",
        "X_dev = X_dev / 255.\n",
        "\n",
        "data_train = data[1000:m].T\n",
        "Y_train = data_train[0]\n",
        "X_train = data_train[1:n]\n",
        "X_train = X_train / 255.\n",
        "image_dim,m_train = X_train.shape\n",
        "\n",
        "print(image_dim, m_train)"
      ],
      "metadata": {
        "colab": {
          "base_uri": "https://localhost:8080/"
        },
        "id": "KAA1go800jyC",
        "outputId": "77f2347f-21fb-4313-eb70-1b55cb728a5b"
      },
      "execution_count": null,
      "outputs": [
        {
          "output_type": "stream",
          "name": "stdout",
          "text": [
            "42000 785\n",
            "784 41000\n"
          ]
        }
      ]
    },
    {
      "cell_type": "code",
      "source": [
        "def init():\n",
        "    W1 = np.random.rand(20, 784) - 0.5\n",
        "    b1 = np.random.rand(20, 1) - 0.5\n",
        "    W2 = np.random.rand(10, 20) - 0.5\n",
        "    b2 = np.random.rand(10, 1) - 0.5\n",
        "    return W1, b1, W2, b2"
      ],
      "metadata": {
        "id": "CKtTFdx50-ul"
      },
      "execution_count": null,
      "outputs": []
    },
    {
      "cell_type": "code",
      "source": [
        "def relu(Z_1):\n",
        "  A_1 = np.maximum(Z_1, 0)\n",
        "  return A_1\n",
        "\n",
        "def softmax(Z_2):\n",
        "    exp_values = np.exp(Z_2)\n",
        "    sum_exp = np.sum(exp_values, axis=0, keepdims=True)\n",
        "    A_2 = exp_values / sum_exp\n",
        "    return A_2\n",
        "\n",
        "def feedfoward(W1, b1, W2, b2, X):\n",
        "  Z_1 = W1.dot(X) + b1\n",
        "  A_1 = relu(Z_1)\n",
        "  Z_2 = W2.dot(A_1) + b2\n",
        "  A_2 = softmax(Z_2)\n",
        "  return Z_1, A_1, Z_2, A_2"
      ],
      "metadata": {
        "id": "cwJJTD9zBo6f"
      },
      "execution_count": null,
      "outputs": []
    },
    {
      "cell_type": "code",
      "source": [
        "def relu_prime(Z_1):\n",
        "  return Z_1 > 0\n",
        "\n",
        "def one_hot(Y):\n",
        "  one_hot_Y = np.zeros((Y.size, Y.max() + 1))\n",
        "  one_hot_Y[np.arange(Y.size), Y] = 1\n",
        "  one_hot_Y = one_hot_Y.T\n",
        "  return one_hot_Y\n",
        "\n",
        "def backprop(Z_1, A_1, Z_2, A_2, W2, X, Y):\n",
        "  one_hot_Y = one_hot(Y)\n",
        "  dZ_2 = A_2 - one_hot_Y\n",
        "  dW2 = (1 / m) * dZ_2.dot(A_1.T)\n",
        "  db2 = (1 / m) * np.sum(dZ_2)\n",
        "  dZ_1 = W2.T.dot(dZ_2) * relu_prime(Z_1)\n",
        "  dW1 = (1 / m) * dZ_1.dot(X.T)\n",
        "  db1 = (1 / m) * np.sum(dZ_1)\n",
        "  return dW1, db1, dW2, db2"
      ],
      "metadata": {
        "id": "4_PJ32CKWc1d"
      },
      "execution_count": null,
      "outputs": []
    },
    {
      "cell_type": "code",
      "source": [
        "def update_params(W1, b1, W2, b2, dW1, db1, dW2, db2, alpha):\n",
        "  W1 = W1 - alpha * dW1\n",
        "  b1 = b1 - alpha * db1\n",
        "  W2 = W2 - alpha * dW2\n",
        "  b2 = b2 - alpha * db2\n",
        "  return W1, b1, W2, b2"
      ],
      "metadata": {
        "id": "hfreSy_OWRue"
      },
      "execution_count": null,
      "outputs": []
    },
    {
      "cell_type": "code",
      "source": [
        "def get_predictions(A2):\n",
        "    return np.argmax(A2, 0)\n",
        "\n",
        "def get_accuracy(predictions, Y):\n",
        "    print(predictions, Y)\n",
        "    return np.sum(predictions == Y) / Y.size\n",
        "\n",
        "def gradient_descent(X, Y, alpha, iterations):\n",
        "  W1, b1, W2, b2 = init()\n",
        "  for i in range(iterations):\n",
        "    Z_1, A_1, Z_2, A_2 = feedfoward(W1, b1, W2, b2, X)\n",
        "    dW1, db1, dW2, db2 = backprop(Z_1, A_1, Z_2, A_2, W2, X, Y)\n",
        "    W1, b1, W2, b2 = update_params(W1, b1, W2, b2, dW1, db1, dW2, db2, alpha)\n",
        "    if i % 50 == 0:\n",
        "      print(\"Iteration: \", i)\n",
        "      print(get_accuracy(get_predictions(A_2), Y))\n",
        "  return W1, b1, W2, b2"
      ],
      "metadata": {
        "id": "8uwJIXk0kj5R"
      },
      "execution_count": null,
      "outputs": []
    },
    {
      "cell_type": "code",
      "source": [
        "W1, b1, W2, b2 = gradient_descent(X_train, Y_train, 0.10, 500)"
      ],
      "metadata": {
        "colab": {
          "base_uri": "https://localhost:8080/"
        },
        "id": "GIyEPsTjky7l",
        "outputId": "98f2a893-9af4-4e44-903d-b5f3e654caa5"
      },
      "execution_count": null,
      "outputs": [
        {
          "output_type": "stream",
          "name": "stdout",
          "text": [
            "Iteration:  0\n",
            "[0 0 5 ... 5 0 6] [8 8 6 ... 0 3 3]\n",
            "0.11609756097560976\n",
            "Iteration:  50\n",
            "[2 8 6 ... 0 0 6] [8 8 6 ... 0 3 3]\n",
            "0.4612926829268293\n",
            "Iteration:  100\n",
            "[2 8 6 ... 0 0 5] [8 8 6 ... 0 3 3]\n",
            "0.6429024390243903\n",
            "Iteration:  150\n",
            "[2 8 6 ... 0 0 5] [8 8 6 ... 0 3 3]\n",
            "0.7473658536585366\n",
            "Iteration:  200\n",
            "[8 8 6 ... 0 0 5] [8 8 6 ... 0 3 3]\n",
            "0.7941463414634147\n",
            "Iteration:  250\n",
            "[8 8 6 ... 0 0 5] [8 8 6 ... 0 3 3]\n",
            "0.8175121951219512\n",
            "Iteration:  300\n",
            "[8 8 6 ... 0 3 5] [8 8 6 ... 0 3 3]\n",
            "0.8319268292682926\n",
            "Iteration:  350\n",
            "[8 8 6 ... 0 3 5] [8 8 6 ... 0 3 3]\n",
            "0.8430975609756097\n",
            "Iteration:  400\n",
            "[8 8 6 ... 0 3 5] [8 8 6 ... 0 3 3]\n",
            "0.850609756097561\n",
            "Iteration:  450\n",
            "[8 8 6 ... 0 3 5] [8 8 6 ... 0 3 3]\n",
            "0.8561219512195122\n"
          ]
        }
      ]
    },
    {
      "cell_type": "code",
      "source": [
        "from matplotlib import pyplot as plt\n",
        "\n",
        "def inference(X, W1, b1, W2, b2):\n",
        "    _, _, _, A2 = feedfoward(W1, b1, W2, b2, X)\n",
        "    return get_predictions(A2)\n",
        "\n",
        "def test_inference(index, W1, b1, W2, b2):\n",
        "    current_image = X_train[:, index, None]\n",
        "    prediction = inference(X_train[:, index, None], W1, b1, W2, b2)\n",
        "    label = Y_train[index]\n",
        "    print(\"Prediction: \", prediction)\n",
        "    print(\"Label: \", label)\n",
        "\n",
        "    current_image = current_image.reshape((28, 28)) * 255\n",
        "    plt.gray()\n",
        "    plt.imshow(current_image, interpolation='nearest')\n",
        "    plt.show()"
      ],
      "metadata": {
        "id": "6jn68uQgnx3J"
      },
      "execution_count": null,
      "outputs": []
    },
    {
      "cell_type": "code",
      "source": [
        "test_inference(0, W1, b1, W2, b2)\n",
        "test_inference(1, W1, b1, W2, b2)\n",
        "test_inference(2, W1, b1, W2, b2)\n",
        "test_inference(3, W1, b1, W2, b2)"
      ],
      "metadata": {
        "colab": {
          "base_uri": "https://localhost:8080/",
          "height": 1000
        },
        "id": "Wvc7-bcwoK-c",
        "outputId": "78a661b4-be3d-4e8d-ae60-d839a0423a94"
      },
      "execution_count": null,
      "outputs": [
        {
          "output_type": "stream",
          "name": "stdout",
          "text": [
            "Prediction:  [8]\n",
            "Label:  8\n"
          ]
        },
        {
          "output_type": "display_data",
          "data": {
            "text/plain": [
              "<Figure size 640x480 with 1 Axes>"
            ],
            "image/png": "[encoded data removed]"
          },
          "metadata": {}
        },
        {
          "output_type": "stream",
          "name": "stdout",
          "text": [
            "Prediction:  [8]\n",
            "Label:  8\n"
          ]
        },
        {
          "output_type": "display_data",
          "data": {
            "text/plain": [
              "<Figure size 640x480 with 1 Axes>"
            ],
            "image/png": "[encoded data removed]"
          },
          "metadata": {}
        },
        {
          "output_type": "stream",
          "name": "stdout",
          "text": [
            "Prediction:  [6]\n",
            "Label:  6\n"
          ]
        },
        {
          "output_type": "display_data",
          "data": {
            "text/plain": [
              "<Figure size 640x480 with 1 Axes>"
            ],
            "image/png": "[encoded data removed]"
          },
          "metadata": {}
        },
        {
          "output_type": "stream",
          "name": "stdout",
          "text": [
            "Prediction:  [5]\n",
            "Label:  5\n"
          ]
        },
        {
          "output_type": "display_data",
          "data": {
            "text/plain": [
              "<Figure size 640x480 with 1 Axes>"
            ],
            "image/png": "[encoded data removed]"
          },
          "metadata": {}
        }
      ]
    },
    {
      "cell_type": "code",
      "source": [
        "get_accuracy(inference(X_dev, W1, b1, W2, b2), Y_dev)"
      ],
      "metadata": {
        "colab": {
          "base_uri": "https://localhost:8080/"
        },
        "id": "lmL_qECyoi09",
        "outputId": "84aa92e7-394d-4ac3-d13a-0de8e305a186"
      },
      "execution_count": null,
      "outputs": [
        {
          "output_type": "stream",
          "name": "stdout",
          "text": [
            "[5 1 0 5 2 3 5 7 2 0 2 0 5 2 4 2 7 1 4 0 8 0 9 1 0 1 9 0 7 2 8 7 1 1 4 3 9\n",
            " 8 9 3 9 0 2 0 4 5 4 3 2 3 4 9 4 4 1 8 1 2 7 2 3 2 1 9 8 0 5 9 0 9 9 7 6 8\n",
            " 6 0 3 2 5 7 8 4 9 0 9 3 0 6 2 0 1 6 9 1 1 1 9 9 1 9 9 8 2 9 4 3 0 0 2 2 6\n",
            " 6 6 4 3 1 2 3 1 4 3 3 5 4 9 9 5 5 8 3 4 9 8 5 6 8 4 3 4 2 4 2 9 5 8 7 5 8\n",
            " 1 7 3 1 0 9 4 1 6 7 8 5 1 0 5 1 6 4 8 7 7 2 6 4 1 3 1 2 3 0 9 2 4 4 5 9 9\n",
            " 6 1 9 3 6 1 6 6 1 5 9 4 6 0 1 3 3 6 9 3 9 1 5 6 4 0 5 4 6 0 6 5 1 8 4 6 1\n",
            " 6 4 4 5 4 2 4 2 6 6 2 1 4 5 3 3 8 4 8 4 3 9 8 5 6 2 3 4 3 1 1 5 0 1 6 5 0\n",
            " 9 4 3 5 0 6 3 4 4 6 1 0 7 0 7 8 6 4 4 0 3 8 3 8 5 4 9 4 3 3 2 9 2 2 0 4 6\n",
            " 3 4 9 2 2 8 1 6 9 5 1 4 6 7 9 0 9 1 1 5 6 5 6 7 2 7 6 1 9 5 6 6 8 9 9 4 9\n",
            " 6 2 7 1 6 1 4 9 6 7 2 2 7 9 4 3 9 1 0 7 7 1 6 2 6 0 5 4 8 3 1 7 9 1 4 1 4\n",
            " 1 3 9 4 1 0 7 4 6 2 6 3 7 7 3 9 4 9 2 6 3 7 9 6 1 3 9 1 4 6 1 2 5 0 1 7 9\n",
            " 6 1 1 3 3 5 2 7 0 8 0 4 5 5 0 1 0 1 9 8 5 4 0 9 3 5 3 5 2 2 5 2 9 2 7 9 3\n",
            " 8 3 8 6 9 7 9 5 6 9 8 4 6 4 2 8 2 8 8 1 6 3 9 1 5 6 1 4 6 9 2 5 3 0 0 6 3\n",
            " 1 4 4 4 2 3 4 5 8 0 7 9 1 7 2 2 2 2 1 6 6 1 3 5 7 2 1 1 1 2 6 6 5 3 5 8 2\n",
            " 9 0 5 9 0 0 1 6 5 2 7 9 0 3 0 5 7 0 3 5 4 5 1 2 2 8 7 1 5 1 5 8 1 5 5 9 9\n",
            " 2 5 2 5 7 0 6 0 1 8 1 6 4 2 8 1 1 6 2 3 2 1 9 1 9 3 6 3 1 7 9 5 2 0 9 6 4\n",
            " 7 8 6 8 0 2 3 0 0 5 9 4 3 7 0 3 3 9 7 8 2 1 9 4 4 4 7 6 2 1 6 9 1 5 2 4 9\n",
            " 9 0 8 5 6 7 7 3 9 3 0 1 1 8 5 4 2 4 5 3 1 6 1 5 9 6 1 2 5 3 2 3 8 8 5 9 4\n",
            " 4 2 9 0 5 6 0 8 2 1 7 1 6 4 6 1 2 2 2 8 8 7 4 1 2 8 1 0 4 0 6 3 5 9 2 9 0\n",
            " 1 1 4 2 1 2 3 8 1 9 0 8 1 5 5 4 9 6 2 4 7 0 9 7 3 6 7 9 2 1 1 6 7 2 2 7 4\n",
            " 4 3 7 5 6 5 0 4 1 0 0 6 7 0 3 3 1 7 5 1 6 6 2 4 8 7 2 3 2 8 3 6 4 4 3 3 0\n",
            " 5 2 1 9 6 4 0 1 4 0 3 9 8 2 7 6 2 3 7 9 0 4 8 9 1 6 5 5 8 0 6 0 6 4 7 7 4\n",
            " 6 2 6 6 8 6 0 4 3 4 5 5 7 3 7 9 8 0 5 7 2 3 7 7 0 0 7 1 5 7 4 6 9 5 8 6 8\n",
            " 0 1 4 9 1 0 2 0 0 2 4 2 1 9 1 7 5 7 0 4 9 1 6 5 1 8 6 5 6 7 9 4 4 8 6 8 9\n",
            " 1 3 8 1 1 0 8 9 5 2 6 1 4 2 3 7 5 8 3 9 1 3 1 5 6 0 5 5 9 9 1 9 8 5 1 0 1\n",
            " 3 7 9 0 4 0 3 7 0 0 6 8 6 8 4 9 5 4 6 1 3 7 6 1 9 9 4 2 7 0 8 7 1 9 1 5 5\n",
            " 1 3 0 8 7 5 9 3 1 2 4 3 0 6 3 0 8 3 9 2 9 9 5 5 6 8 7 7 1 8 3 1 8 3 6 2 9\n",
            " 5] [5 1 0 0 2 3 3 7 2 7 2 0 5 2 4 2 7 1 4 2 0 0 9 1 0 1 9 0 7 2 8 7 1 1 4 3 9\n",
            " 8 9 3 9 0 2 0 4 5 4 3 5 3 4 4 4 4 1 8 1 2 7 2 3 2 1 9 8 0 5 9 0 9 9 7 6 8\n",
            " 6 5 3 2 5 7 2 9 9 0 9 5 0 0 3 0 1 6 9 1 1 1 9 9 1 9 9 8 2 9 4 3 0 0 2 2 6\n",
            " 6 6 4 3 5 2 3 1 4 3 2 5 4 9 9 5 5 8 3 4 8 8 5 6 8 4 3 4 2 4 2 9 5 3 4 5 0\n",
            " 1 2 3 3 0 9 4 1 6 7 8 5 1 0 5 1 6 4 3 7 7 2 5 4 1 3 1 2 3 0 9 2 4 4 3 9 9\n",
            " 8 1 9 3 4 1 6 6 1 0 9 4 6 0 1 3 3 6 9 3 9 1 5 6 4 0 5 4 6 0 6 5 1 8 4 6 1\n",
            " 6 4 4 5 2 2 4 2 6 6 2 1 4 5 3 3 8 4 8 9 3 9 8 5 6 2 3 4 5 1 1 5 0 1 6 5 0\n",
            " 9 4 3 5 0 6 3 4 4 6 1 0 7 0 7 3 6 4 6 0 3 3 3 8 5 4 9 4 1 3 2 7 2 2 0 4 6\n",
            " 2 9 9 2 3 8 1 5 9 5 1 4 6 7 9 0 9 1 1 5 6 5 6 7 2 7 6 1 9 5 6 6 8 9 9 9 9\n",
            " 6 2 7 1 6 1 4 9 6 7 2 2 7 9 4 3 8 1 0 7 7 8 6 2 6 9 5 4 8 3 1 7 9 1 4 1 4\n",
            " 8 3 8 4 1 0 7 4 6 2 6 3 7 9 2 4 4 7 2 6 5 7 9 6 1 3 9 1 4 6 1 2 5 0 1 9 9\n",
            " 6 1 1 3 3 9 0 7 0 8 0 4 5 5 0 5 6 1 9 8 5 4 0 9 3 5 2 5 2 2 5 2 9 2 7 9 3\n",
            " 8 3 8 6 7 7 2 5 6 9 8 9 6 4 2 8 2 5 8 1 6 8 9 1 3 6 1 4 6 9 2 5 3 0 0 6 3\n",
            " 1 4 4 4 4 3 4 5 8 0 7 9 1 7 2 2 2 2 8 6 6 1 3 5 7 2 6 1 1 2 6 6 5 3 8 8 6\n",
            " 9 0 5 9 0 0 1 6 5 2 7 9 0 5 8 5 7 0 3 5 4 3 1 4 2 8 7 1 5 1 7 8 1 0 5 4 9\n",
            " 2 5 2 3 4 0 6 3 1 6 8 5 6 2 2 1 1 6 2 3 2 1 9 1 9 8 6 3 1 7 9 5 2 0 9 8 4\n",
            " 7 3 6 8 0 2 3 0 0 5 9 4 8 7 0 3 3 9 7 8 2 1 3 4 4 4 9 6 6 1 6 4 1 5 2 9 9\n",
            " 9 0 8 5 6 9 7 3 9 3 0 1 1 8 5 2 2 4 3 3 1 6 1 5 9 6 1 2 5 3 2 3 8 5 7 9 4\n",
            " 4 2 9 0 5 6 0 5 2 1 7 1 6 4 6 1 4 2 2 8 1 7 4 1 2 8 1 0 4 0 6 3 5 9 2 4 9\n",
            " 7 1 4 2 1 3 3 8 1 9 0 8 1 5 5 4 9 6 2 4 7 0 9 7 3 4 2 9 2 1 1 6 7 2 2 7 4\n",
            " 4 3 7 5 5 6 0 4 1 0 0 6 7 0 3 3 7 7 5 1 6 6 2 4 8 7 2 3 2 8 3 6 4 4 3 3 0\n",
            " 5 2 2 9 6 4 0 1 4 0 3 9 8 2 9 4 2 3 7 9 0 4 8 9 1 4 5 5 8 0 6 0 6 4 7 7 4\n",
            " 6 2 6 6 3 6 0 4 3 4 7 5 7 3 7 9 4 0 5 7 2 3 7 7 0 0 2 1 5 7 4 6 9 5 8 6 8\n",
            " 0 1 4 9 1 0 8 0 0 2 4 2 1 9 1 7 5 7 0 4 9 1 6 5 7 8 6 5 6 7 9 9 4 8 6 8 9\n",
            " 1 3 8 1 1 0 8 9 5 1 6 1 4 8 2 7 3 8 3 4 1 3 7 5 6 0 5 5 9 9 1 4 5 5 1 0 1\n",
            " 3 7 9 0 4 0 3 7 0 0 6 8 6 8 4 9 5 4 6 1 3 7 6 1 7 9 4 2 7 0 2 7 1 9 1 5 5\n",
            " 1 8 0 8 7 0 9 3 1 7 4 5 0 6 5 0 8 3 9 2 9 9 3 5 6 8 7 7 1 8 3 1 4 3 6 2 9\n",
            " 5]\n"
          ]
        },
        {
          "output_type": "execute_result",
          "data": {
            "text/plain": [
              "np.float64(0.864)"
            ]
          },
          "metadata": {},
          "execution_count": 15
        }
      ]
    },
    {
      "cell_type": "code",
      "source": [],
      "metadata": {
        "id": "yGcigMaxopb7"
      },
      "execution_count": null,
      "outputs": []
    }
  ]
}
